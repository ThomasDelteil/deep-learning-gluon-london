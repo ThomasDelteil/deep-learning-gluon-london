{
 "cells": [
  {
   "cell_type": "code",
   "execution_count": 1,
   "metadata": {
    "slideshow": {
     "slide_type": "notes"
    }
   },
   "outputs": [],
   "source": [
    "from utils import *\n",
    "%matplotlib inline"
   ]
  },
  {
   "cell_type": "markdown",
   "metadata": {
    "slideshow": {
     "slide_type": "slide"
    }
   },
   "source": [
    "# Fast, portable neural networks with gluon `.hybridize()`\n",
    "\n",
    "\n",
    "<center><img src=\"support/fast.gif\" width=300><center>"
   ]
  },
  {
   "cell_type": "markdown",
   "metadata": {
    "slideshow": {
     "slide_type": "notes"
    }
   },
   "source": [
    "The tutorials we saw so far adopt the *imperative*, or define-by-run, programming paradigm. \n",
    "It might not even occur to you to give a name to this style of programming \n",
    "because it's how we always write Python programs. \n",
    "\n",
    "Take for example a prototypical program written below in pseudo-Python.\n",
    "We grab some input arrays, we compute upon them to produce some intermediate values,\n",
    "and finally we produce the result that we actually care about."
   ]
  },
  {
   "cell_type": "markdown",
   "metadata": {
    "slideshow": {
     "slide_type": "slide"
    }
   },
   "source": [
    "## Imperative / Symbolic Design"
   ]
  },
  {
   "cell_type": "markdown",
   "metadata": {
    "slideshow": {
     "slide_type": "slide"
    }
   },
   "source": [
    "## Imperative Pseudofunction\n",
    "```\n",
    "def our_function(A, B, C, D):\n",
    "    # Compute some intermediate values\n",
    "    E = basic_function1(A, B)\n",
    "    F = basic_function2(C, D)\n",
    "    \n",
    "    # Produce the thing you really care about\n",
    "    G = basic_function3(E, F)\n",
    "    return G\n",
    "    \n",
    "# Load up some data\n",
    "W = some_stuff()\n",
    "X = some_stuff()\n",
    "Y = some_stuff()\n",
    "Z = some_stuff()\n",
    "    \n",
    "result = our_function(W, X, Y, Z)\n",
    "```"
   ]
  },
  {
   "cell_type": "markdown",
   "metadata": {
    "slideshow": {
     "slide_type": "slide"
    }
   },
   "source": [
    "## Symbolic Pseudofunction\n",
    "\n",
    "```\n",
    "# Placeholders to stand in for real data\n",
    "A = placeholder() \n",
    "B = placeholder()\n",
    "C = placeholder()\n",
    "D = placeholder()\n",
    "\n",
    "# Compute some intermediate values\n",
    "E = symbolic_function1(A, B)\n",
    "F = symbolic_function2(C, D)\n",
    "    \n",
    "# Produce the thing you really care about\n",
    "G = symbolic_function3(E, F)\n",
    "    \n",
    "our_function = library.compile(inputs=[A, B, C, D], outputs=[G])   \n",
    "    \n",
    "# Load up some data\n",
    "W = some_stuff()\n",
    "X = some_stuff()\n",
    "Y = some_stuff()\n",
    "Z = some_stuff()\n",
    "    \n",
    "result = our_function(W, X, Y, Z)\n",
    "```"
   ]
  },
  {
   "cell_type": "markdown",
   "metadata": {
    "slideshow": {
     "slide_type": "slide"
    }
   },
   "source": [
    "## Tradeoffs "
   ]
  },
  {
   "cell_type": "markdown",
   "metadata": {
    "slideshow": {
     "slide_type": "slide"
    }
   },
   "source": [
    "### Imperative Programs Tend to be More Flexible\n",
    "* familiar style means you can use typical constructs.\n",
    "* faster debugging, means you get to try out more ideas.\n",
    "* the catch is that imperative programs are *comparatively* slow"
   ]
  },
  {
   "cell_type": "markdown",
   "metadata": {
    "slideshow": {
     "slide_type": "slide"
    }
   },
   "source": [
    "### Symbolic Programs Tend to be More Efficient\n",
    "* memory efficiency via reuse for intermediate results\n",
    "* speed optimizations via operator folding\n",
    "* the catch is the tricky indirection of working with placeholders"
   ]
  },
  {
   "cell_type": "markdown",
   "metadata": {
    "slideshow": {
     "slide_type": "slide"
    }
   },
   "source": [
    "## Getting the best of both worlds with MXNet Gluon's HybridBlocks\n",
    "\n",
    "\n",
    "**All of MXNet's predefined layers are HybridBlocks.** This means that any network consisting entirely of predefined MXNet layers can be compiled and run at much faster speeds by calling ``.hybridize()``."
   ]
  },
  {
   "cell_type": "code",
   "execution_count": 2,
   "metadata": {
    "slideshow": {
     "slide_type": "fragment"
    }
   },
   "outputs": [],
   "source": [
    "import mxnet as mx\n",
    "from mxnet.gluon import nn\n",
    "from mxnet import nd"
   ]
  },
  {
   "cell_type": "markdown",
   "metadata": {
    "slideshow": {
     "slide_type": "slide"
    }
   },
   "source": [
    "## HybridSequential"
   ]
  },
  {
   "cell_type": "code",
   "execution_count": 3,
   "metadata": {
    "attributes": {
     "classes": [],
     "id": "",
     "n": "3"
    },
    "slideshow": {
     "slide_type": "fragment"
    }
   },
   "outputs": [
    {
     "name": "stdout",
     "output_type": "stream",
     "text": [
      "=== net(x) ===\n",
      "[[0.08827585 0.00505189]]\n",
      "<NDArray 1x2 @cpu(0)>\n"
     ]
    }
   ],
   "source": [
    "def get_net():\n",
    "    # construct a MLP\n",
    "    net = nn.HybridSequential()\n",
    "    with net.name_scope():\n",
    "        net.add(nn.Dense(256, activation=\"relu\"))\n",
    "        net.add(nn.Dense(128, activation=\"relu\"))\n",
    "        net.add(nn.Dense(2))\n",
    "    # initialize the parameters\n",
    "    net.collect_params().initialize()\n",
    "    return net\n",
    "\n",
    "# forward\n",
    "x = nd.random_normal(shape=(1, 512))\n",
    "net = get_net()\n",
    "print('=== net(x) ==={}'.format(net(x)))"
   ]
  },
  {
   "cell_type": "markdown",
   "metadata": {
    "slideshow": {
     "slide_type": "notes"
    }
   },
   "source": [
    "Once we compute the gradient of $f(x)$ with respect to $x$, we’ll need a place to store it. In MXNet, we can tell an NDArray that we plan to store a gradient by invoking its `attach_grad` method."
   ]
  },
  {
   "cell_type": "code",
   "execution_count": 4,
   "metadata": {
    "attributes": {
     "classes": [],
     "id": "",
     "n": "6"
    },
    "slideshow": {
     "slide_type": "slide"
    }
   },
   "outputs": [
    {
     "name": "stdout",
     "output_type": "stream",
     "text": [
      "=== net(x) ===\n",
      "[[0.08827585 0.00505189]]\n",
      "<NDArray 1x2 @cpu(0)>\n"
     ]
    }
   ],
   "source": [
    "net.hybridize()\n",
    "print('=== net(x) ==={}'.format(net(x)))"
   ]
  },
  {
   "cell_type": "markdown",
   "metadata": {
    "slideshow": {
     "slide_type": "slide"
    }
   },
   "source": [
    "## Performance\n",
    "Compare the performance before and after hybridizing \n",
    "by measuring the time it takes to make 1000 forward passes through the network."
   ]
  },
  {
   "cell_type": "code",
   "execution_count": 5,
   "metadata": {
    "slideshow": {
     "slide_type": "fragment"
    }
   },
   "outputs": [],
   "source": [
    "from time import time\n",
    "def bench(net, x):\n",
    "    mx.nd.waitall()\n",
    "    start = time()\n",
    "    for i in range(1000):\n",
    "        y = net(x)\n",
    "    mx.nd.waitall()\n",
    "    return time() - start"
   ]
  },
  {
   "cell_type": "code",
   "execution_count": 6,
   "metadata": {
    "attributes": {
     "classes": [],
     "id": "",
     "n": "7"
    },
    "slideshow": {
     "slide_type": "fragment"
    }
   },
   "outputs": [
    {
     "name": "stdout",
     "output_type": "stream",
     "text": [
      "Before hybridizing: 0.2987 sec\n",
      "After hybridizing: 0.1220 sec\n"
     ]
    }
   ],
   "source": [
    "net = get_net()\n",
    "print('Before hybridizing: %.4f sec'%(bench(net, x)))\n",
    "net.hybridize()\n",
    "print('After hybridizing: %.4f sec'%(bench(net, x)))"
   ]
  },
  {
   "cell_type": "markdown",
   "metadata": {
    "slideshow": {
     "slide_type": "slide"
    }
   },
   "source": [
    "## Get the symbolic program\n",
    "If we feed the network with a Symbol placeholder, then the corresponding symbolic program will be returned."
   ]
  },
  {
   "cell_type": "code",
   "execution_count": 7,
   "metadata": {
    "attributes": {
     "classes": [],
     "id": "",
     "n": "8"
    },
    "slideshow": {
     "slide_type": "slide"
    }
   },
   "outputs": [
    {
     "name": "stdout",
     "output_type": "stream",
     "text": [
      "=== input data holder ===\n",
      "<Symbol data>\n",
      "\n",
      "=== the symbolic program of net===\n",
      "<Symbol hybridsequential1_dense2_fwd>\n",
      "\n",
      "=== the corresponding json definition===\n",
      "{\n",
      "  \"nodes\": [\n",
      "    {\n",
      "      \"op\": \"null\", \n",
      "      \"name\": \"data\", \n",
      "      \"inputs\": []\n",
      "    }, \n",
      "    {\n",
      "      \"op\": \"null\", \n",
      "      \"name\": \"hybridsequential1_dense0_weight\", \n",
      "      \"attrs\": {\n",
      "        \"__dtype__\": \"0\", \n",
      "        \"__lr_mult__\": \"1.0\", \n",
      "        \"__shape__\": \"(256, 0)\", \n",
      "        \"__storage_type__\": \"0\", \n",
      "        \"__wd_mult__\": \"1.0\"\n",
      "      }, \n",
      "      \"inputs\": []\n",
      "    }, \n",
      "    {\n",
      "      \"op\": \"null\", \n",
      "      \"name\": \"hybridsequential1_dense0_bias\", \n",
      "      \"attrs\": {\n",
      "        \"__dtype__\": \"0\", \n",
      "        \"__init__\": \"zeros\", \n",
      "        \"__lr_mult__\": \"1.0\", \n",
      "        \"__shape__\": \"(256,)\", \n",
      "        \"__storage_type__\": \"0\", \n",
      "        \"__wd_mult__\": \"1.0\"\n",
      "      }, \n",
      "      \"inputs\": []\n",
      "    }, \n",
      "    {\n",
      "      \"op\": \"FullyConnected\", \n",
      "      \"name\": \"hybridsequential1_dense0_fwd\", \n",
      "      \"attrs\": {\n",
      "        \"flatten\": \"True\", \n",
      "        \"no_bias\": \"False\", \n",
      "        \"num_hidden\": \"256\"\n",
      "      }, \n",
      "      \"inputs\": [[0, 0, 0], [1, 0, 0], [2, 0, 0]]\n",
      "    }, \n",
      "    {\n",
      "      \"op\": \"Activation\", \n",
      "      \"name\": \"hybridsequential1_dense0_relu_fwd\", \n",
      "      \"attrs\": {\"act_type\": \"relu\"}, \n",
      "      \"inputs\": [[3, 0, 0]]\n",
      "    }, \n",
      "    {\n",
      "      \"op\": \"null\", \n",
      "      \"name\": \"hybridsequential1_dense1_weight\", \n",
      "      \"attrs\": {\n",
      "        \"__dtype__\": \"0\", \n",
      "        \"__lr_mult__\": \"1.0\", \n",
      "        \"__shape__\": \"(128, 0)\", \n",
      "        \"__storage_type__\": \"0\", \n",
      "        \"__wd_mult__\": \"1.0\"\n",
      "      }, \n",
      "      \"inputs\": []\n",
      "    }, \n",
      "    {\n",
      "      \"op\": \"null\", \n",
      "      \"name\": \"hybridsequential1_dense1_bias\", \n",
      "      \"attrs\": {\n",
      "        \"__dtype__\": \"0\", \n",
      "        \"__init__\": \"zeros\", \n",
      "        \"__lr_mult__\": \"1.0\", \n",
      "        \"__shape__\": \"(128,)\", \n",
      "        \"__storage_type__\": \"0\", \n",
      "        \"__wd_mult__\": \"1.0\"\n",
      "      }, \n",
      "      \"inputs\": []\n",
      "    }, \n",
      "    {\n",
      "      \"op\": \"FullyConnected\", \n",
      "      \"name\": \"hybridsequential1_dense1_fwd\", \n",
      "      \"attrs\": {\n",
      "        \"flatten\": \"True\", \n",
      "        \"no_bias\": \"False\", \n",
      "        \"num_hidden\": \"128\"\n",
      "      }, \n",
      "      \"inputs\": [[4, 0, 0], [5, 0, 0], [6, 0, 0]]\n",
      "    }, \n",
      "    {\n",
      "      \"op\": \"Activation\", \n",
      "      \"name\": \"hybridsequential1_dense1_relu_fwd\", \n",
      "      \"attrs\": {\"act_type\": \"relu\"}, \n",
      "      \"inputs\": [[7, 0, 0]]\n",
      "    }, \n",
      "    {\n",
      "      \"op\": \"null\", \n",
      "      \"name\": \"hybridsequential1_dense2_weight\", \n",
      "      \"attrs\": {\n",
      "        \"__dtype__\": \"0\", \n",
      "        \"__lr_mult__\": \"1.0\", \n",
      "        \"__shape__\": \"(2, 0)\", \n",
      "        \"__storage_type__\": \"0\", \n",
      "        \"__wd_mult__\": \"1.0\"\n",
      "      }, \n",
      "      \"inputs\": []\n",
      "    }, \n",
      "    {\n",
      "      \"op\": \"null\", \n",
      "      \"name\": \"hybridsequential1_dense2_bias\", \n",
      "      \"attrs\": {\n",
      "        \"__dtype__\": \"0\", \n",
      "        \"__init__\": \"zeros\", \n",
      "        \"__lr_mult__\": \"1.0\", \n",
      "        \"__shape__\": \"(2,)\", \n",
      "        \"__storage_type__\": \"0\", \n",
      "        \"__wd_mult__\": \"1.0\"\n",
      "      }, \n",
      "      \"inputs\": []\n",
      "    }, \n",
      "    {\n",
      "      \"op\": \"FullyConnected\", \n",
      "      \"name\": \"hybridsequential1_dense2_fwd\", \n",
      "      \"attrs\": {\n",
      "        \"flatten\": \"True\", \n",
      "        \"no_bias\": \"False\", \n",
      "        \"num_hidden\": \"2\"\n",
      "      }, \n",
      "      \"inputs\": [[8, 0, 0], [9, 0, 0], [10, 0, 0]]\n",
      "    }\n",
      "  ], \n",
      "  \"arg_nodes\": [0, 1, 2, 5, 6, 9, 10], \n",
      "  \"node_row_ptr\": [\n",
      "    0, \n",
      "    1, \n",
      "    2, \n",
      "    3, \n",
      "    4, \n",
      "    5, \n",
      "    6, \n",
      "    7, \n",
      "    8, \n",
      "    9, \n",
      "    10, \n",
      "    11, \n",
      "    12\n",
      "  ], \n",
      "  \"heads\": [[11, 0, 0]], \n",
      "  \"attrs\": {\"mxnet_version\": [\"int\", 10400]}\n",
      "}\n"
     ]
    }
   ],
   "source": [
    "from mxnet import sym\n",
    "x = sym.var('data')\n",
    "print('=== input data holder ===')\n",
    "print(x)\n",
    "\n",
    "y = net(x)\n",
    "print('\\n=== the symbolic program of net===')\n",
    "print(y)\n",
    "\n",
    "y_json = y.tojson()\n",
    "print('\\n=== the corresponding json definition===')\n",
    "print(y_json)"
   ]
  },
  {
   "cell_type": "markdown",
   "metadata": {
    "slideshow": {
     "slide_type": "slide"
    }
   },
   "source": [
    "## Save symbolic model\n",
    "Now we can save both the program and parameters onto disk, so that it can be loaded later not only in Python, but in all other supported languages, such as C++, R, and Scala, as well."
   ]
  },
  {
   "cell_type": "code",
   "execution_count": 8,
   "metadata": {
    "slideshow": {
     "slide_type": "fragment"
    }
   },
   "outputs": [],
   "source": [
    "net.export('my_model', epoch=0)"
   ]
  },
  {
   "cell_type": "markdown",
   "metadata": {
    "slideshow": {
     "slide_type": "slide"
    }
   },
   "source": [
    "### let's dive deeper into how `hybridize` works.\n",
    "* Recall, Gluon networks are composed of Blocks each of which subclass `gluon.Block`\n",
    "* For hybrid networks, we have `gluon.HybridBlock`\n",
    "* To define a `HybridBlock`, we have to define a`hybrid_forward` function:"
   ]
  },
  {
   "cell_type": "markdown",
   "metadata": {
    "slideshow": {
     "slide_type": "slide"
    }
   },
   "source": [
    "## HybridBlock"
   ]
  },
  {
   "cell_type": "code",
   "execution_count": 9,
   "metadata": {
    "slideshow": {
     "slide_type": "fragment"
    }
   },
   "outputs": [],
   "source": [
    "from mxnet import gluon\n",
    "\n",
    "class Net(gluon.HybridBlock):\n",
    "    def __init__(self, **kwargs):\n",
    "        super(Net, self).__init__(**kwargs)\n",
    "        with self.name_scope():\n",
    "            self.fc1 = nn.Dense(256)\n",
    "            self.fc2 = nn.Dense(128)\n",
    "            self.fc3 = nn.Dense(2)\n",
    "\n",
    "    def hybrid_forward(self, F, x):\n",
    "        # F is a function space that depends on the type of x\n",
    "        # If x's type is NDArray, then F will be mxnet.nd\n",
    "        # If x's type is Symbol, then F will be mxnet.sym\n",
    "        print('type(x): {}, F: {}'.format(\n",
    "                type(x).__name__, F.__name__))\n",
    "        x = F.relu(self.fc1(x))\n",
    "        x = F.relu(self.fc2(x))\n",
    "        return self.fc3(x)"
   ]
  },
  {
   "cell_type": "markdown",
   "metadata": {
    "slideshow": {
     "slide_type": "notes"
    }
   },
   "source": [
    "The hybrid_forward function takes an additional input, F, which stands for a backend. This exploits one awesome feature of MXNet. MXNet has both a symbolic API (mxnet.symbol) and an imperative API (mxnet.ndarray)."
   ]
  },
  {
   "cell_type": "code",
   "execution_count": 10,
   "metadata": {
    "slideshow": {
     "slide_type": "slide"
    }
   },
   "outputs": [
    {
     "name": "stdout",
     "output_type": "stream",
     "text": [
      "=== 1st forward ===\n",
      "type(x): NDArray, F: mxnet.ndarray\n",
      "=== 2nd forward ===\n",
      "type(x): NDArray, F: mxnet.ndarray\n"
     ]
    }
   ],
   "source": [
    "net = Net()\n",
    "net.collect_params().initialize()\n",
    "x = nd.random_normal(shape=(1, 512))\n",
    "print('=== 1st forward ===')\n",
    "y = net(x)\n",
    "print('=== 2nd forward ===')\n",
    "y = net(x)"
   ]
  },
  {
   "cell_type": "code",
   "execution_count": 11,
   "metadata": {
    "slideshow": {
     "slide_type": "fragment"
    }
   },
   "outputs": [
    {
     "name": "stdout",
     "output_type": "stream",
     "text": [
      "=== 1st forward ===\n",
      "type(x): Symbol, F: mxnet.symbol\n",
      "=== 2nd forward ===\n"
     ]
    }
   ],
   "source": [
    "net.hybridize()\n",
    "print('=== 1st forward ===')\n",
    "y = net(x)\n",
    "print('=== 2nd forward ===')\n",
    "y = net(x)"
   ]
  },
  {
   "cell_type": "markdown",
   "metadata": {
    "slideshow": {
     "slide_type": "slide"
    }
   },
   "source": [
    "## Conclusion\n",
    "\n",
    "Through `HybridSequental` and `HybridBlock`, we can convert an imperative program into a symbolic program by calling `hybridize`. "
   ]
  }
 ],
 "metadata": {
  "celltoolbar": "Slideshow",
  "kernelspec": {
   "display_name": "conda_mxnet_p36",
   "language": "python",
   "name": "conda_mxnet_p36"
  },
  "language_info": {
   "codemirror_mode": {
    "name": "ipython",
    "version": 3
   },
   "file_extension": ".py",
   "mimetype": "text/x-python",
   "name": "python",
   "nbconvert_exporter": "python",
   "pygments_lexer": "ipython3",
   "version": "3.6.5"
  }
 },
 "nbformat": 4,
 "nbformat_minor": 2
}
